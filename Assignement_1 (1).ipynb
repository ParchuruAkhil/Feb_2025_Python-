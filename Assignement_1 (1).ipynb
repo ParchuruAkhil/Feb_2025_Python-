{
 "cells": [
  {
   "cell_type": "code",
   "execution_count": 33,
   "id": "b520039d-ec22-47c9-bd4d-28ca3cd38762",
   "metadata": {},
   "outputs": [
    {
     "name": "stdin",
     "output_type": "stream",
     "text": [
      "Enter the number n1:  6\n",
      "Enter the number n2:  4\n",
      "Enter the number n3:  6\n"
     ]
    },
    {
     "name": "stdout",
     "output_type": "stream",
     "text": [
      "The average of n1,n2,n3 is: 5.333333333333333\n"
     ]
    }
   ],
   "source": [
    "#Q1) wap ask the user enter 3 numbers n1,n2,n3 from keyboard\n",
    "# calculate averag\n",
    "n1=float(input(\"Enter the number n1: \"))\n",
    "n2=float(input(\"Enter the number n2: \"))\n",
    "n3=float(input(\"Enter the number n3: \"))\n",
    "average=(n1+n2+n3)/3\n",
    "print(\"The average of n1,n2,n3 is:\",average)"
   ]
  },
  {
   "cell_type": "code",
   "execution_count": 5,
   "id": "c954e8de-03ad-4015-9ea0-c34c225ce83d",
   "metadata": {},
   "outputs": [
    {
     "name": "stdin",
     "output_type": "stream",
     "text": [
      "Enter the name:  python\n",
      "Enter the age:  10\n",
      "Enter the city:  hyd\n"
     ]
    },
    {
     "name": "stdout",
     "output_type": "stream",
     "text": [
      "My name is python, I'm 10 years old and came from hyd.\n"
     ]
    }
   ],
   "source": [
    "#Q2) wap ask the user enter name age city\n",
    "# print my name is python im 10 years old and came from hyd\n",
    "name = input(\"Enter the name: \")\n",
    "age = int(input(\"Enter the age: \"))\n",
    "city = input(\"Enter the city: \")\n",
    "print(f\"My name is {name}, I'm {age} years old and came from {city}.\")"
   ]
  },
  {
   "cell_type": "code",
   "execution_count": 23,
   "id": "70c95e0f-b5e9-44f2-877e-7983f61d87a0",
   "metadata": {},
   "outputs": [
    {
     "name": "stdin",
     "output_type": "stream",
     "text": [
      "Enter the radius of the circle 5\n"
     ]
    },
    {
     "name": "stdout",
     "output_type": "stream",
     "text": [
      "The area of the circle is: 78.5\n"
     ]
    }
   ],
   "source": [
    "# Q3) wap ask the user to enter radidus of a circle calculate area of the circle\n",
    "# var: radidus  var: pi=3.14\n",
    "# formuale: pi*radius*radius\n",
    "# print the answers using f string and format\n",
    "radius=float(input(\"Enter the radius of the circle\"))\n",
    "pi=3.14\n",
    "area=pi*radius*radius\n",
    "print(f\"The area of the circle is:\",area)\n"
   ]
  },
  {
   "cell_type": "code",
   "execution_count": 29,
   "id": "b201199e-288f-42a7-bca0-757462ea8a5b",
   "metadata": {},
   "outputs": [
    {
     "name": "stdin",
     "output_type": "stream",
     "text": [
      "Enter the breadth of right angle triangle 4\n",
      "Enter the height of right angle triangle 6\n"
     ]
    },
    {
     "name": "stdout",
     "output_type": "stream",
     "text": [
      "The area of right angle triangle is: 12.0\n"
     ]
    }
   ],
   "source": [
    "#  Q4) wap ask the user enter breadth and height of a right angle triangle\n",
    "# calculate the area\n",
    "# var1: bredath  var2: height\n",
    "# formuale : 0.5*breadth*heigh\n",
    "\n",
    "breadth=float(input(\"Enter the breadth of right angle triangle\"))\n",
    "height=float(input(\"Enter the height of right angle triangle\"))\n",
    "area=0.5*breadth*height\n",
    "print(f\"The area of right angle triangle is:\",area)"
   ]
  },
  {
   "cell_type": "code",
   "execution_count": 31,
   "id": "c7d6ef81-fff8-40dc-a903-d98711cda715",
   "metadata": {},
   "outputs": [
    {
     "name": "stdin",
     "output_type": "stream",
     "text": [
      "Enter the bill amount 140\n",
      "Enter the tip amount 20\n"
     ]
    },
    {
     "name": "stdout",
     "output_type": "stream",
     "text": [
      "The total bill is: 160.0\n"
     ]
    }
   ],
   "source": [
    "# Q5) wap ask the user the bill amount and tip amount\n",
    "#   calculate total bill\n",
    "#   var1: bill amount var2: tip amount\n",
    "#   formuale\n",
    "bill_amount=float(input(\"Enter the bill amount\"))\n",
    "tip_amount=float(input(\"Enter the tip amount\"))\n",
    "total_bill=bill_amount+tip_amount\n",
    "print(f\"The total bill is:\",total_bill)"
   ]
  },
  {
   "cell_type": "code",
   "execution_count": 35,
   "id": "663b8f43-a0ce-4489-8f03-2b187f2835b2",
   "metadata": {},
   "outputs": [
    {
     "name": "stdin",
     "output_type": "stream",
     "text": [
      "Enter the bill amount:  240\n",
      "Enter the tip percentage:  10\n"
     ]
    },
    {
     "name": "stdout",
     "output_type": "stream",
     "text": [
      "The tip amount is: 24.0\n",
      "The total bill with tip is: 264.0\n"
     ]
    }
   ],
   "source": [
    "# Q6) wap ask the user the bill amount and tip percentage\n",
    "#    take tip percentage as 10\n",
    "#   calculate total bill= bill amount+ bill amount*tip per/100\n",
    "#   var1: bill amount var2: tip amount\n",
    "#    formuale\n",
    "# Ask the user to enter the bill amount and tip percentage\n",
    "bill_amount = float(input(\"Enter the bill amount: \"))\n",
    "tip_percentage = float(input(\"Enter the tip percentage: \"))\n",
    "tip_amount = (bill_amount * tip_percentage) / 100\n",
    "total_bill = bill_amount + tip_amount\n",
    "print(f\"The tip amount is: {tip_amount}\")\n",
    "print(f\"The total bill with tip is: {total_bill}\")\n"
   ]
  },
  {
   "cell_type": "code",
   "execution_count": 37,
   "id": "2a604351-41db-4cc2-ba78-39bd58228549",
   "metadata": {},
   "outputs": [
    {
     "name": "stdin",
     "output_type": "stream",
     "text": [
      "Enter the length of rectangle 5\n",
      "Enter the breadth of rectangle 2\n"
     ]
    },
    {
     "name": "stdout",
     "output_type": "stream",
     "text": [
      "The area of rectangle is: 10.0\n"
     ]
    }
   ],
   "source": [
    "# Q7) wap ask the user length and breadth of a rectangle calculate area\n",
    "#   var1: length  var2: breadth\n",
    "#   formulae: length * breadth\n",
    "length=float(input(\"Enter the length of rectangle\"))\n",
    "breadth=float(input(\"Enter the breadth of rectangle\"))\n",
    "area=length*breadth\n",
    "print(f\"The area of rectangle is:\",area)\n"
   ]
  },
  {
   "cell_type": "code",
   "execution_count": 41,
   "id": "6c06e12b-b2f3-4518-8081-632e37109d17",
   "metadata": {},
   "outputs": [
    {
     "name": "stdin",
     "output_type": "stream",
     "text": [
      "Enter the radius of sphere 2\n"
     ]
    },
    {
     "name": "stdout",
     "output_type": "stream",
     "text": [
      "The volume of sphere is: 25.12\n"
     ]
    }
   ],
   "source": [
    "# 8) wap ask the user take the radius and calculate volume of sphere\n",
    "#   formulae: pi*r**3(pi*r*r*r)\n",
    "radius=float(input(\"Enter the radius of sphere\"))\n",
    "pi=3.14\n",
    "volume=pi*radius*radius*radius\n",
    "print(f\"The volume of sphere is:\",volume)"
   ]
  },
  {
   "cell_type": "code",
   "execution_count": 65,
   "id": "f0eb22d8-f83c-497c-9461-839e99ec4161",
   "metadata": {},
   "outputs": [
    {
     "name": "stdin",
     "output_type": "stream",
     "text": [
      "Enter the amount in dollars: 30\n"
     ]
    },
    {
     "name": "stdout",
     "output_type": "stream",
     "text": [
      "The dollars value in rupees is: 2550.0\n"
     ]
    }
   ],
   "source": [
    "# Q9) wap ask the user enter amount in dollars convert into rupees\n",
    "#     1$=85rs\n",
    "dollars=float(input(\"Enter the amount in dollars:\"))\n",
    "rupees=dollars*85\n",
    "print(f\"The dollars value in rupees is:\",rupees)"
   ]
  },
  {
   "cell_type": "code",
   "execution_count": null,
   "id": "8535c83f-8b1d-40f6-ba8e-3493b913d755",
   "metadata": {},
   "outputs": [],
   "source": [
    "# Q10) wap ask the user enter weight in kgs convert into pounds\n",
    "#    1kg= 2.2pounds\n",
    "weight=float(input(\"Enter the weight in Kgs:\"))\n",
    "pounds=weight*2.2\n",
    "print(f\"The weight in pounds is:\",pounds)\n"
   ]
  }
 ],
 "metadata": {
  "kernelspec": {
   "display_name": "Python [conda env:base] *",
   "language": "python",
   "name": "conda-base-py"
  },
  "language_info": {
   "codemirror_mode": {
    "name": "ipython",
    "version": 3
   },
   "file_extension": ".py",
   "mimetype": "text/x-python",
   "name": "python",
   "nbconvert_exporter": "python",
   "pygments_lexer": "ipython3",
   "version": "3.12.7"
  }
 },
 "nbformat": 4,
 "nbformat_minor": 5
}
